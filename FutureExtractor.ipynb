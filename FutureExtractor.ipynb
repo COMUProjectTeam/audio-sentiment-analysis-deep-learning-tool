{
 "cells": [
  {
   "cell_type": "code",
   "execution_count": 1,
   "metadata": {},
   "outputs": [],
   "source": [
    "import librosa\n",
    "import numpy as np\n",
    "import pandas as pd\n"
   ]
  },
  {
   "cell_type": "code",
   "execution_count": 91,
   "metadata": {},
   "outputs": [],
   "source": [
    "class FeatureExtractor:\n",
    "    \n",
    "    \n",
    "    @staticmethod\n",
    "    def extract(file_path, *args, save_as_npy = False, file_name = \"feature_extraction_output_file\" ):\n",
    "        \n",
    "        \"\"\" \n",
    "        Ses dosyasının özniteliklerini döndürür.\n",
    "\n",
    "        Parameters:\n",
    "\n",
    "        file_path (string) : dosyanın yolu \n",
    "        save_as_npy (string)  : npy dosyası olarak cıktıları kaydeder. default -> false\n",
    "\n",
    "        *args (list) : [mfcc,chroma,zcr,mel,contrast,tonnetz]\n",
    "\n",
    "        mfccs (numpy.array) : mel Mel frekans ölçeği, insan kulağının ses frekanslarındaki değişimi algılayışını gösteren bir ölçektir.\n",
    "        chroma (numpy.array) : Spektrum müzikal oktavının 12 farklı yarı tonunu(chroma) temsil eden 12 parçanın belirtildiği ses için güçlü bir sunumudur.\n",
    "        mel (numpy.array) : mel spektogram verisi\n",
    "        contrast (numpy.array) : \n",
    "        tonnetz (numpy.array) : \n",
    "        \"\"\"\n",
    "        \n",
    "        data,sample_rate = librosa.load(file_path)\n",
    "        data = ( data[:,0] if data.ndim > 1 else data.T)\n",
    "        \n",
    "         # Get features         \n",
    "        \n",
    "        \n",
    "        stft = np.abs(librosa.stft(data))\n",
    "        if \"mfcc\" in args : mfcc = np.mean(librosa.feature.mfcc(y=data, sr=sample_rate, n_mfcc=40).T, axis=0)   # 40 values\n",
    "        if \"chroma\" in args : chroma = np.mean(librosa.feature.chroma_stft(S=stft, sr=sample_rate).T, axis=0)\n",
    "        if \"mel\" in args : mel = np.mean(librosa.feature.melspectrogram(data, sr=sample_rate).T, axis=0)\n",
    "        if \"contrast\" in args : contrast = np.mean(librosa.feature.spectral_contrast(S=stft, sr=sample_rate).T, axis=0)\n",
    "        if \"tonnetz\" in args: tonnetz = np.mean(librosa.feature.tonnetz(y=librosa.effects.harmonic(data), sr=sample_rate).T, # tonal centroid features\n",
    "                      axis=0)\n",
    "        \n",
    "        #öznitelik dizimizin uzunlugunu hesaplayalım\n",
    "        \n",
    "        lenght = 0\n",
    "        if 'mfcc' in locals() : lenght += len(mfcc)\n",
    "        if 'chroma' in locals() : lenght += len(chroma)\n",
    "        if 'mel' in locals() : lenght += len(mel)\n",
    "        if 'contrast' in locals(): lenght += len(contrast)\n",
    "        if 'tonnetz' in locals(): lenght += len(tonnetz)\n",
    "        \n",
    "        count_of_features = len(args)\n",
    "        \n",
    "        features, labels = np.empty((0, lenght)), args\n",
    "        \n",
    "        extracted_features = np.hstack(\n",
    "                [mfcc, chroma, mel, contrast, tonnetz])\n",
    "        \n",
    "        \n",
    "        \n",
    "        \n",
    "        "
   ]
  },
  {
   "cell_type": "code",
   "execution_count": 92,
   "metadata": {},
   "outputs": [
    {
     "name": "stdout",
     "output_type": "stream",
     "text": [
      "[[-6.00969543e+02  4.73483706e+00 -8.54750538e+00 -4.23647547e+00\n",
      "  -8.59365582e-01 -1.93358946e+00 -3.34930062e-01  8.65300119e-01\n",
      "   7.81835794e-01  4.80183721e-01 -5.15032470e-01 -2.08400443e-01\n",
      "  -8.97986650e-01  4.96130198e-01 -1.15539446e-01 -2.99996644e-01\n",
      "  -1.14685035e+00 -6.07976280e-02 -1.57832488e-01  5.00616074e-01\n",
      "  -7.08330631e-01 -5.35296738e-01  3.06388408e-01 -2.26073012e-01\n",
      "  -4.37756985e-01 -1.01219369e-02 -3.23512197e-01  3.67189258e-01\n",
      "  -4.05758113e-01 -3.19618672e-01  1.33676529e-02  5.64327776e-01\n",
      "  -7.75211006e-02  1.28633022e-01 -4.78613108e-01 -1.15880594e-01\n",
      "   1.65570572e-01 -3.86333540e-02 -1.07888699e-01  1.13799244e-01\n",
      "   6.99929073e-02  7.85857067e-02  6.13361448e-02  5.01703210e-02\n",
      "   4.94509786e-02  5.30075170e-02  5.05965985e-02  6.66939691e-02\n",
      "   8.79254863e-02  6.76687732e-02  5.19975424e-02  6.14324138e-02\n",
      "   1.84907026e-06  1.12652351e-05  1.77182446e-05  3.10571813e-05\n",
      "   3.11413351e-05  7.10569366e-05  3.54685850e-04  2.35422063e-04\n",
      "   1.81472526e-04  6.72770111e-05  5.12473125e-05  1.00305195e-04\n",
      "   1.20314508e-04  1.26342318e-04  2.10997474e-04  6.83190417e-04\n",
      "   4.42226650e-04  2.62233370e-04  9.16189456e-04  2.04087747e-03\n",
      "   6.68385904e-03  2.12078094e-02  1.69301890e-02  2.47584470e-02\n",
      "   1.12254612e-01  4.23962474e-01  1.76802158e-01  2.76229411e-01\n",
      "   3.78389567e-01  7.75864542e-01  2.31532979e+00  2.77319074e+00\n",
      "   3.74911046e+00  1.13457310e+00  7.37445116e-01  9.51951861e-01\n",
      "   5.33700168e-01  3.55115563e-01  1.17008495e+00  2.52880907e+00\n",
      "   9.43246126e-01  1.28939211e+00  6.68437064e-01  3.72841030e-01\n",
      "   1.18142597e-01  9.35313255e-02  1.06842645e-01  8.63576978e-02\n",
      "   1.87162310e-01  4.63174880e-01  2.59499729e-01  1.11349948e-01\n",
      "   1.08183518e-01  2.34629437e-01  1.83621317e-01  1.11487436e+00\n",
      "   2.67579484e+00  1.96537125e+00  2.31065369e+00  3.35005730e-01\n",
      "   2.57195085e-01  1.58000022e-01  3.31839979e-01  1.56071633e-01\n",
      "   1.51515365e-01  2.15213209e-01  2.94929832e-01  8.59735787e-01\n",
      "   7.59929359e-01  1.04520488e+00  3.25177193e-01  3.15206915e-01\n",
      "   1.75716490e-01  1.04593821e-01  4.06838804e-02  3.67797352e-02\n",
      "   5.71474060e-02  7.09943548e-02  4.00827974e-02  1.83179304e-02\n",
      "   2.98226364e-02  1.81504954e-02  2.13180799e-02  1.23755923e-02\n",
      "   9.47135128e-03  8.14651791e-03  1.56740611e-03  1.97765511e-03\n",
      "   1.89964008e-03  8.01135611e-04  6.93665352e-04  1.25229929e-03\n",
      "   4.57609491e-03  2.83591403e-03  8.77776358e-04  5.47471805e-04\n",
      "   3.19469022e-04  3.31947958e-04  1.47806451e-04  1.38695992e-04\n",
      "   2.27048789e-04  1.95505912e-04  2.36521577e-04  2.51966965e-04\n",
      "   2.15909968e-04  3.80210404e-04  2.61079869e-04  1.44969556e-04\n",
      "   2.39906120e-04  1.16842908e-04  7.64958531e-05  9.81791090e-05\n",
      "   1.31135603e-04  4.73256252e-04  2.43564043e-03  8.88517534e-04\n",
      "   3.85280378e-04  7.35764625e-04  7.01339450e-04  9.92576941e-04\n",
      "   9.72041104e-04  6.67975808e-04  6.07338850e-04  3.77466349e-04\n",
      "   8.97182908e-04  6.97588664e-04  6.19282073e-05  3.80859365e-06\n",
      "   1.42959237e+01  1.39861472e+01  1.46839411e+01  1.45041979e+01\n",
      "   1.48378369e+01  1.48079165e+01  1.59590300e+01 -1.97629459e-02\n",
      "   2.08508133e-02 -1.79935818e-04 -2.19635042e-02  9.59343552e-03\n",
      "  -2.98816781e-03]]\n"
     ]
    }
   ],
   "source": [
    "FeatureExtractor.extract(\"example_audio.ogg\",'mfcc','chroma','mel','contrast','tonnetz')"
   ]
  },
  {
   "cell_type": "code",
   "execution_count": 63,
   "metadata": {},
   "outputs": [
    {
     "data": {
      "text/plain": [
       "array([[1, 1, 1, 2],\n",
       "       [3, 3, 3, 3],\n",
       "       [4, 4, 4, 4]])"
      ]
     },
     "execution_count": 63,
     "metadata": {},
     "output_type": "execute_result"
    }
   ],
   "source": []
  },
  {
   "cell_type": "code",
   "execution_count": null,
   "metadata": {},
   "outputs": [],
   "source": []
  }
 ],
 "metadata": {
  "kernelspec": {
   "display_name": "Python 3",
   "language": "python",
   "name": "python3"
  },
  "language_info": {
   "codemirror_mode": {
    "name": "ipython",
    "version": 3
   },
   "file_extension": ".py",
   "mimetype": "text/x-python",
   "name": "python",
   "nbconvert_exporter": "python",
   "pygments_lexer": "ipython3",
   "version": "3.8.5"
  }
 },
 "nbformat": 4,
 "nbformat_minor": 4
}
