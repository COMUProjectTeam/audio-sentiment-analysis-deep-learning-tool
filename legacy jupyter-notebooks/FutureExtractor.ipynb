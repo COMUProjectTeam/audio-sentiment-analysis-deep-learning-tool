{
 "cells": [
  {
   "cell_type": "code",
   "execution_count": 12,
   "metadata": {},
   "outputs": [],
   "source": [
    "import librosa\n",
    "from librosa.util import normalize\n",
    "import numpy as np\n",
    "import pandas as pd\n"
   ]
  },
  {
   "cell_type": "code",
   "execution_count": 1,
   "metadata": {},
   "outputs": [],
   "source": [
    "class FeatureExtractor:\n",
    "    \n",
    "    # todo -> add normalize = True \n",
    "    \n",
    "    \n",
    "    def read_audio(conf, pathname, trim_long_data = False):\n",
    "        y, sr = librosa.load(pathname, sr=conf.sampling_rate)\n",
    "        \n",
    "        if 0 < len(y):\n",
    "            y, _ = librosa.effects.trim(y) \n",
    "            \n",
    "        if len(y) > conf.samples: \n",
    "            if trim_long_data:\n",
    "                y = y[0:0+conf.samples]\n",
    "        else: \n",
    "            padding = conf.samples - len(y) \n",
    "            offset = padding // 2\n",
    "            y = np.pad(y, (offset, conf.samples - len(y) - offset), 'constant')\n",
    "        return y\n",
    "    \n",
    "    \n",
    "    @staticmethod\n",
    "    def extract(file_path, *args, normalize = False ):\n",
    "        \n",
    "        \"\"\" \n",
    "        Ses dosyasının özniteliklerini döndürür.\n",
    "\n",
    "        Parameters:\n",
    "\n",
    "        file_path (string) : dosyanın yolu \n",
    "\n",
    "        *args (list) : [mfcc,chroma,zcr,mel,contrast,tonnetz]\n",
    "\n",
    "        mfccs (numpy.array) : mel Mel frekans ölçeği, insan kulağının ses frekanslarındaki değişimi algılayışını gösteren bir ölçektir.\n",
    "        chroma (numpy.array) : Spektrum müzikal oktavının 12 farklı yarı tonunu(chroma) temsil eden 12 parçanın belirtildiği ses için güçlü bir sunumudur.\n",
    "        mel (numpy.array) : mel spektogram verisi\n",
    "        contrast (numpy.array) : \n",
    "        tonnetz (numpy.array) : \n",
    "        \n",
    "        Returns :\n",
    "        \n",
    "        extracted_features (arr) : list of data\n",
    "        lenght (int) : lenght of extracted_features array data\n",
    "        \n",
    "        Example use : \n",
    "        \n",
    "        FeatureExtractor.extract(\"example_audio.ogg\",'mfcc','chroma') ||\n",
    "        FeatureExtractor.extract(\"example_audio.ogg\",'mfcc', normalize = True )\n",
    "        \n",
    "        \"\"\"\n",
    "        \n",
    "        data,sample_rate = librosa.load(file_path)\n",
    "        data = ( data[:,0] if data.ndim > 1 else data.T)\n",
    "        \n",
    "         # Get features         \n",
    "        \n",
    "        \n",
    "        stft = np.abs(librosa.stft(data))\n",
    "        if \"mfcc\" in args : mfcc = np.mean(librosa.feature.mfcc(y=data, sr=sample_rate, n_mfcc=40).T, axis=0)   # 40 values\n",
    "        if \"chroma\" in args : chroma = np.mean(librosa.feature.chroma_stft(S=stft, sr=sample_rate).T, axis=0)\n",
    "        if \"mel\" in args : mel = np.mean(librosa.feature.melspectrogram(data, sr=sample_rate).T, axis=0)\n",
    "        if \"contrast\" in args : contrast = np.mean(librosa.feature.spectral_contrast(S=stft, sr=sample_rate).T, axis=0)\n",
    "        if \"tonnetz\" in args: tonnetz = np.mean(librosa.feature.tonnetz(y=librosa.effects.harmonic(data), sr=sample_rate).T, # tonal centroid features\n",
    "                      axis=0)\n",
    "        \n",
    "        #öznitelik dizimizin uzunlugunu hesaplayalım\n",
    "        \n",
    "        \n",
    "        extracted_features = []\n",
    "        if 'mfcc' in locals() : extracted_features = np.hstack([extracted_features,mfcc])\n",
    "        if 'chroma' in locals() : extracted_features = np.hstack([extracted_features,chroma])\n",
    "        if 'mel' in locals() : extracted_features = np.hstack([extracted_features,mel])\n",
    "        if 'contrast' in locals(): extracted_features = np.hstack([extracted_features,contrast])\n",
    "        if 'tonnetz' in locals(): extracted_features = np.hstack([extracted_features,tonnetz])\n",
    "        \n",
    "        lenght = len(extracted_features)\n",
    "        \n",
    "        return extracted_features, lenght\n",
    "        \n",
    "        \n",
    "        @staticmethod\n",
    "        def extractSpectogram(file_path, conf, save = False):\n",
    "            \"\"\"\n",
    "            Mel spektogram görüntüsünü döndürür.\n",
    "            \"\"\"\n",
    "            \n",
    "            spectrogram = librosa.feature.melspectrogram(audio, \n",
    "                                                 sr=conf.sampling_rate,\n",
    "                                                 n_mels=conf.n_mels,\n",
    "                                                 hop_length=conf.hop_length,\n",
    "                                                 n_fft=conf.n_fft,\n",
    "                                                 fmin=conf.fmin,\n",
    "                                                 fmax=conf.fmax)\n",
    "            spectrogram = librosa.power_to_db(spectrogram)\n",
    "            spectrogram = spectrogram.astype(np.float32)\n",
    "            \n",
    "            return spectrogram\n",
    "            \n",
    "        \n",
    "        "
   ]
  },
  {
   "cell_type": "code",
   "execution_count": 2,
   "metadata": {},
   "outputs": [
    {
     "ename": "NameError",
     "evalue": "name 'librosa' is not defined",
     "output_type": "error",
     "traceback": [
      "\u001B[1;31m---------------------------------------------------------------------------\u001B[0m",
      "\u001B[1;31mNameError\u001B[0m                                 Traceback (most recent call last)",
      "\u001B[1;32m<ipython-input-2-b5c677c72bc9>\u001B[0m in \u001B[0;36m<module>\u001B[1;34m\u001B[0m\n\u001B[1;32m----> 1\u001B[1;33m \u001B[0mFeatureExtractor\u001B[0m\u001B[1;33m.\u001B[0m\u001B[0mextract\u001B[0m\u001B[1;33m(\u001B[0m\u001B[1;34m\"example_audio.ogg\"\u001B[0m\u001B[1;33m,\u001B[0m\u001B[1;34m'mfcc'\u001B[0m\u001B[1;33m,\u001B[0m\u001B[1;34m'chroma'\u001B[0m\u001B[1;33m)\u001B[0m\u001B[1;33m\u001B[0m\u001B[1;33m\u001B[0m\u001B[0m\n\u001B[0m\u001B[0;32m      2\u001B[0m \u001B[1;33m\u001B[0m\u001B[0m\n",
      "\u001B[1;32m<ipython-input-1-80706be1483e>\u001B[0m in \u001B[0;36mextract\u001B[1;34m(file_path, normalize, *args)\u001B[0m\n\u001B[0;32m     50\u001B[0m         \"\"\"\n\u001B[0;32m     51\u001B[0m \u001B[1;33m\u001B[0m\u001B[0m\n\u001B[1;32m---> 52\u001B[1;33m         \u001B[0mdata\u001B[0m\u001B[1;33m,\u001B[0m\u001B[0msample_rate\u001B[0m \u001B[1;33m=\u001B[0m \u001B[0mlibrosa\u001B[0m\u001B[1;33m.\u001B[0m\u001B[0mload\u001B[0m\u001B[1;33m(\u001B[0m\u001B[0mfile_path\u001B[0m\u001B[1;33m)\u001B[0m\u001B[1;33m\u001B[0m\u001B[1;33m\u001B[0m\u001B[0m\n\u001B[0m\u001B[0;32m     53\u001B[0m         \u001B[0mdata\u001B[0m \u001B[1;33m=\u001B[0m \u001B[1;33m(\u001B[0m \u001B[0mdata\u001B[0m\u001B[1;33m[\u001B[0m\u001B[1;33m:\u001B[0m\u001B[1;33m,\u001B[0m\u001B[1;36m0\u001B[0m\u001B[1;33m]\u001B[0m \u001B[1;32mif\u001B[0m \u001B[0mdata\u001B[0m\u001B[1;33m.\u001B[0m\u001B[0mndim\u001B[0m \u001B[1;33m>\u001B[0m \u001B[1;36m1\u001B[0m \u001B[1;32melse\u001B[0m \u001B[0mdata\u001B[0m\u001B[1;33m.\u001B[0m\u001B[0mT\u001B[0m\u001B[1;33m)\u001B[0m\u001B[1;33m\u001B[0m\u001B[1;33m\u001B[0m\u001B[0m\n\u001B[0;32m     54\u001B[0m \u001B[1;33m\u001B[0m\u001B[0m\n",
      "\u001B[1;31mNameError\u001B[0m: name 'librosa' is not defined"
     ]
    }
   ],
   "source": [
    "FeatureExtractor.extract(\"example_audio.ogg\",'mfcc','chroma')"
   ]
  },
  {
   "cell_type": "code",
   "execution_count": 63,
   "metadata": {},
   "outputs": [
    {
     "data": {
      "text/plain": [
       "array([[1, 1, 1, 2],\n",
       "       [3, 3, 3, 3],\n",
       "       [4, 4, 4, 4]])"
      ]
     },
     "execution_count": 63,
     "metadata": {},
     "output_type": "execute_result"
    }
   ],
   "source": []
  },
  {
   "cell_type": "code",
   "execution_count": null,
   "metadata": {},
   "outputs": [],
   "source": []
  }
 ],
 "metadata": {
  "kernelspec": {
   "display_name": "Python 3",
   "language": "python",
   "name": "python3"
  },
  "language_info": {
   "codemirror_mode": {
    "name": "ipython",
    "version": 3
   },
   "file_extension": ".py",
   "mimetype": "text/x-python",
   "name": "python",
   "nbconvert_exporter": "python",
   "pygments_lexer": "ipython3",
   "version": "3.8.5"
  }
 },
 "nbformat": 4,
 "nbformat_minor": 4
}