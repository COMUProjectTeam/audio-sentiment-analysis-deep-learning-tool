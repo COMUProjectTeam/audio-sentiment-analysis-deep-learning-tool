{
 "cells": [
  {
   "cell_type": "code",
   "execution_count": 15,
   "metadata": {},
   "outputs": [],
   "source": [
    "import pandas as pd\n",
    "df = pd.read_csv(\"datatable.csv\")"
   ]
  },
  {
   "cell_type": "code",
   "execution_count": 16,
   "metadata": {},
   "outputs": [
    {
     "data": {
      "text/html": [
       "<div>\n",
       "<style scoped>\n",
       "    .dataframe tbody tr th:only-of-type {\n",
       "        vertical-align: middle;\n",
       "    }\n",
       "\n",
       "    .dataframe tbody tr th {\n",
       "        vertical-align: top;\n",
       "    }\n",
       "\n",
       "    .dataframe thead th {\n",
       "        text-align: right;\n",
       "    }\n",
       "</style>\n",
       "<table border=\"1\" class=\"dataframe\">\n",
       "  <thead>\n",
       "    <tr style=\"text-align: right;\">\n",
       "      <th></th>\n",
       "      <th>Unnamed: 0</th>\n",
       "      <th>labels</th>\n",
       "      <th>source</th>\n",
       "      <th>path</th>\n",
       "    </tr>\n",
       "  </thead>\n",
       "  <tbody>\n",
       "    <tr>\n",
       "      <th>0</th>\n",
       "      <td>0</td>\n",
       "      <td>male_happy</td>\n",
       "      <td>RAVDESS</td>\n",
       "      <td>/home/emir/Desktop/Projects/audio-sentiment-an...</td>\n",
       "    </tr>\n",
       "    <tr>\n",
       "      <th>1</th>\n",
       "      <td>1</td>\n",
       "      <td>male_sad</td>\n",
       "      <td>RAVDESS</td>\n",
       "      <td>/home/emir/Desktop/Projects/audio-sentiment-an...</td>\n",
       "    </tr>\n",
       "    <tr>\n",
       "      <th>2</th>\n",
       "      <td>2</td>\n",
       "      <td>male_fear</td>\n",
       "      <td>RAVDESS</td>\n",
       "      <td>/home/emir/Desktop/Projects/audio-sentiment-an...</td>\n",
       "    </tr>\n",
       "    <tr>\n",
       "      <th>3</th>\n",
       "      <td>3</td>\n",
       "      <td>male_disgust</td>\n",
       "      <td>RAVDESS</td>\n",
       "      <td>/home/emir/Desktop/Projects/audio-sentiment-an...</td>\n",
       "    </tr>\n",
       "    <tr>\n",
       "      <th>4</th>\n",
       "      <td>4</td>\n",
       "      <td>male_disgust</td>\n",
       "      <td>RAVDESS</td>\n",
       "      <td>/home/emir/Desktop/Projects/audio-sentiment-an...</td>\n",
       "    </tr>\n",
       "  </tbody>\n",
       "</table>\n",
       "</div>"
      ],
      "text/plain": [
       "   Unnamed: 0        labels   source  \\\n",
       "0           0    male_happy  RAVDESS   \n",
       "1           1      male_sad  RAVDESS   \n",
       "2           2     male_fear  RAVDESS   \n",
       "3           3  male_disgust  RAVDESS   \n",
       "4           4  male_disgust  RAVDESS   \n",
       "\n",
       "                                                path  \n",
       "0  /home/emir/Desktop/Projects/audio-sentiment-an...  \n",
       "1  /home/emir/Desktop/Projects/audio-sentiment-an...  \n",
       "2  /home/emir/Desktop/Projects/audio-sentiment-an...  \n",
       "3  /home/emir/Desktop/Projects/audio-sentiment-an...  \n",
       "4  /home/emir/Desktop/Projects/audio-sentiment-an...  "
      ]
     },
     "execution_count": 16,
     "metadata": {},
     "output_type": "execute_result"
    }
   ],
   "source": [
    "df.head()"
   ]
  },
  {
   "cell_type": "code",
   "execution_count": 17,
   "metadata": {},
   "outputs": [],
   "source": [
    "df = df.loc[:, ~df.columns.str.contains('^Unnamed')]"
   ]
  },
  {
   "cell_type": "code",
   "execution_count": 20,
   "metadata": {},
   "outputs": [
    {
     "data": {
      "text/plain": [
       "16324"
      ]
     },
     "execution_count": 20,
     "metadata": {},
     "output_type": "execute_result"
    }
   ],
   "source": [
    "len(df)"
   ]
  },
  {
   "cell_type": "code",
   "execution_count": null,
   "metadata": {},
   "outputs": [],
   "source": []
  }
 ],
 "metadata": {
  "kernelspec": {
   "display_name": "Python 3",
   "language": "python",
   "name": "python3"
  },
  "language_info": {
   "codemirror_mode": {
    "name": "ipython",
    "version": 3
   },
   "file_extension": ".py",
   "mimetype": "text/x-python",
   "name": "python",
   "nbconvert_exporter": "python",
   "pygments_lexer": "ipython3",
   "version": "3.8.3"
  }
 },
 "nbformat": 4,
 "nbformat_minor": 4
}
