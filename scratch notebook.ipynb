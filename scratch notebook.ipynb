{
 "cells": [
  {
   "cell_type": "code",
   "execution_count": 1,
   "outputs": [],
   "source": [
    "# Bu dosya çalışma yapabileceğiniz karalama dosyası içeriği silinebilir"
   ],
   "metadata": {
    "collapsed": false,
    "pycharm": {
     "name": "#%%\n"
    }
   }
  },
  {
   "cell_type": "code",
   "execution_count": 2,
   "metadata": {},
   "outputs": [],
   "source": [
    "import pandas as pd\n",
    "import numpy as np\n",
    "import keras\n",
    "from Config import Config\n",
    "pp_config = Config.PreproccessConfig\n",
    "fp_config = Config.FilePathConfig\n",
    "from FeatureExtractor import FeatureExtractor"
   ]
  },
  {
   "cell_type": "code",
   "metadata": {
    "pycharm": {
     "name": "#%%\n"
    }
   },
   "source": [
    "featuresX = np.load(fp_config.SAVE_RUNTIME_FEATURES_X)\n",
    "featuresY = np.load(fp_config.SAVE_RUNTIME_FEATURES_Y)\n",
    "\n",
    "featuresX = featuresX[1:]\n",
    "featuresX.shape"
   ],
   "execution_count": 14,
   "outputs": [
    {
     "data": {
      "text/plain": "(1440, 40)"
     },
     "execution_count": 14,
     "metadata": {},
     "output_type": "execute_result"
    }
   ]
  },
  {
   "cell_type": "code",
   "execution_count": 12,
   "metadata": {},
   "outputs": [
    {
     "data": {
      "text/plain": "(array([-5.56146851e+02,  8.79562073e+01, -9.18203640e+00,  5.36484575e+00,\n         1.23868179e+00,  1.01451149e+01, -6.55452013e+00, -4.69264460e+00,\n        -1.13256435e+01, -6.74255323e+00, -1.54156876e+01, -4.58075094e+00,\n         4.44131374e+00, -7.10640383e+00, -4.41600418e+00,  1.07946157e+00,\n        -5.41327333e+00, -4.23448658e+00, -1.72733963e-01, -4.88958454e+00,\n        -8.69068050e+00, -3.46675420e+00, -2.45945287e+00, -6.24296331e+00,\n        -5.62724161e+00, -5.66225386e+00, -3.48656750e+00, -4.07787561e+00,\n        -5.64685297e+00, -8.96562755e-01, -5.31741798e-01, -3.36166072e+00,\n        -2.97680807e+00,  9.71290827e-01, -2.43491173e+00, -3.05701113e+00,\n        -1.28874743e+00,  6.74355984e-01,  8.41143906e-01,  8.56831431e-01]),\n 40)"
     },
     "execution_count": 12,
     "metadata": {},
     "output_type": "execute_result"
    }
   ],
   "source": [
    "sample = FeatureExtractor.extract('/home/emir/Desktop/Projects/audio-sentiment-analysis-deep-learning-tool/Datasets/Ravdess/Actor_01/03-01-03-02-01-02-01.wav',['mfcc'])\n",
    "sample\n"
   ]
  },
  {
   "cell_type": "code",
   "execution_count": 5,
   "outputs": [
    {
     "data": {
      "text/plain": "   Unnamed: 0        labels   source  \\\n0           0    male_happy  RAVDESS   \n1           1      male_sad  RAVDESS   \n2           2     male_fear  RAVDESS   \n3           3  male_disgust  RAVDESS   \n4           4  male_disgust  RAVDESS   \n\n                                                path  \n0  /home/emir/Desktop/Projects/audio-sentiment-an...  \n1  /home/emir/Desktop/Projects/audio-sentiment-an...  \n2  /home/emir/Desktop/Projects/audio-sentiment-an...  \n3  /home/emir/Desktop/Projects/audio-sentiment-an...  \n4  /home/emir/Desktop/Projects/audio-sentiment-an...  ",
      "text/html": "<div>\n<style scoped>\n    .dataframe tbody tr th:only-of-type {\n        vertical-align: middle;\n    }\n\n    .dataframe tbody tr th {\n        vertical-align: top;\n    }\n\n    .dataframe thead th {\n        text-align: right;\n    }\n</style>\n<table border=\"1\" class=\"dataframe\">\n  <thead>\n    <tr style=\"text-align: right;\">\n      <th></th>\n      <th>Unnamed: 0</th>\n      <th>labels</th>\n      <th>source</th>\n      <th>path</th>\n    </tr>\n  </thead>\n  <tbody>\n    <tr>\n      <th>0</th>\n      <td>0</td>\n      <td>male_happy</td>\n      <td>RAVDESS</td>\n      <td>/home/emir/Desktop/Projects/audio-sentiment-an...</td>\n    </tr>\n    <tr>\n      <th>1</th>\n      <td>1</td>\n      <td>male_sad</td>\n      <td>RAVDESS</td>\n      <td>/home/emir/Desktop/Projects/audio-sentiment-an...</td>\n    </tr>\n    <tr>\n      <th>2</th>\n      <td>2</td>\n      <td>male_fear</td>\n      <td>RAVDESS</td>\n      <td>/home/emir/Desktop/Projects/audio-sentiment-an...</td>\n    </tr>\n    <tr>\n      <th>3</th>\n      <td>3</td>\n      <td>male_disgust</td>\n      <td>RAVDESS</td>\n      <td>/home/emir/Desktop/Projects/audio-sentiment-an...</td>\n    </tr>\n    <tr>\n      <th>4</th>\n      <td>4</td>\n      <td>male_disgust</td>\n      <td>RAVDESS</td>\n      <td>/home/emir/Desktop/Projects/audio-sentiment-an...</td>\n    </tr>\n  </tbody>\n</table>\n</div>"
     },
     "execution_count": 5,
     "metadata": {},
     "output_type": "execute_result"
    }
   ],
   "source": [
    "metadata_df = pd.read_csv(fp_config.DATA_METADATA_DF_PATH)\n",
    "metadata_df.head()\n"
   ],
   "metadata": {
    "collapsed": false,
    "pycharm": {
     "name": "#%%\n"
    }
   }
  },
  {
   "cell_type": "code",
   "execution_count": 6,
   "outputs": [
    {
     "name": "stdout",
     "output_type": "stream",
     "text": [
      "male_happy\n"
     ]
    }
   ],
   "source": [
    "print(featuresY[0])\n"
   ],
   "metadata": {
    "collapsed": false,
    "pycharm": {
     "name": "#%%\n"
    }
   }
  },
  {
   "cell_type": "code",
   "execution_count": 7,
   "outputs": [
    {
     "data": {
      "text/plain": "(array([-5.56146851e+02,  8.79562073e+01, -9.18203640e+00,  5.36484575e+00,\n         1.23868179e+00,  1.01451149e+01, -6.55452013e+00, -4.69264460e+00,\n        -1.13256435e+01, -6.74255323e+00, -1.54156876e+01, -4.58075094e+00,\n         4.44131374e+00, -7.10640383e+00, -4.41600418e+00,  1.07946157e+00,\n        -5.41327333e+00, -4.23448658e+00, -1.72733963e-01, -4.88958454e+00,\n        -8.69068050e+00, -3.46675420e+00, -2.45945287e+00, -6.24296331e+00,\n        -5.62724161e+00, -5.66225386e+00, -3.48656750e+00, -4.07787561e+00,\n        -5.64685297e+00, -8.96562755e-01, -5.31741798e-01, -3.36166072e+00,\n        -2.97680807e+00,  9.71290827e-01, -2.43491173e+00, -3.05701113e+00,\n        -1.28874743e+00,  6.74355984e-01,  8.41143906e-01,  8.56831431e-01]),\n 40)"
     },
     "execution_count": 7,
     "metadata": {},
     "output_type": "execute_result"
    }
   ],
   "source": [
    "FeatureExtractor.extract('/home/emir/Desktop/Projects/audio-sentiment-analysis-deep-learning-tool/Datasets/Ravdess/Actor_01/03-01-03-02-01-02-01.wav',['mfcc'])"
   ],
   "metadata": {
    "collapsed": false,
    "pycharm": {
     "name": "#%%\n"
    }
   }
  }
 ],
 "metadata": {
  "kernelspec": {
   "display_name": "Python 3",
   "language": "python",
   "name": "python3"
  },
  "language_info": {
   "codemirror_mode": {
    "name": "ipython",
    "version": 3
   },
   "file_extension": ".py",
   "mimetype": "text/x-python",
   "name": "python",
   "nbconvert_exporter": "python",
   "pygments_lexer": "ipython3",
   "version": "3.8.5"
  }
 },
 "nbformat": 4,
 "nbformat_minor": 4
}