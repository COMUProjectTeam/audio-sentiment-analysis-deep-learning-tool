{
 "cells": [
  {
   "cell_type": "code",
   "execution_count": null,
   "outputs": [],
   "source": [
    "# Bu dosya çalışma yapabileceğiniz karalama dosyası içeriği silinebilir"
   ],
   "metadata": {
    "collapsed": false,
    "pycharm": {
     "name": "#%%\n"
    }
   }
  },
  {
   "cell_type": "code",
   "execution_count": 1,
   "metadata": {},
   "outputs": [],
   "source": [
    "import pandas as pd\n",
    "import numpy as np\n",
    "import keras\n",
    "from Config import Config\n",
    "pp_config = Config.PreproccessConfig\n",
    "fp_config = Config.FilePathConfig\n",
    "from FeatureExtractor import FeatureExtractor"
   ]
  },
  {
   "cell_type": "code",
   "metadata": {
    "pycharm": {
     "name": "#%%\n"
    }
   },
   "source": [
    "metadata_df = pd.read_csv(fp_config.DATA_METADATA_DF_PATH)\n",
    "metadata_df = metadata_df.loc[:, ~metadata_df.columns.str.contains('^Unnamed')]\n",
    "metadata_df.head()"
   ],
   "execution_count": 2,
   "outputs": [
    {
     "data": {
      "text/plain": "         labels source                                               path\n0    male_angry  CREMA  /home/emir/Desktop/Projects/audio-sentiment-an...\n1  male_disgust  CREMA  /home/emir/Desktop/Projects/audio-sentiment-an...\n2     male_fear  CREMA  /home/emir/Desktop/Projects/audio-sentiment-an...\n3    male_happy  CREMA  /home/emir/Desktop/Projects/audio-sentiment-an...\n4  male_neutral  CREMA  /home/emir/Desktop/Projects/audio-sentiment-an...",
      "text/html": "<div>\n<style scoped>\n    .dataframe tbody tr th:only-of-type {\n        vertical-align: middle;\n    }\n\n    .dataframe tbody tr th {\n        vertical-align: top;\n    }\n\n    .dataframe thead th {\n        text-align: right;\n    }\n</style>\n<table border=\"1\" class=\"dataframe\">\n  <thead>\n    <tr style=\"text-align: right;\">\n      <th></th>\n      <th>labels</th>\n      <th>source</th>\n      <th>path</th>\n    </tr>\n  </thead>\n  <tbody>\n    <tr>\n      <th>0</th>\n      <td>male_angry</td>\n      <td>CREMA</td>\n      <td>/home/emir/Desktop/Projects/audio-sentiment-an...</td>\n    </tr>\n    <tr>\n      <th>1</th>\n      <td>male_disgust</td>\n      <td>CREMA</td>\n      <td>/home/emir/Desktop/Projects/audio-sentiment-an...</td>\n    </tr>\n    <tr>\n      <th>2</th>\n      <td>male_fear</td>\n      <td>CREMA</td>\n      <td>/home/emir/Desktop/Projects/audio-sentiment-an...</td>\n    </tr>\n    <tr>\n      <th>3</th>\n      <td>male_happy</td>\n      <td>CREMA</td>\n      <td>/home/emir/Desktop/Projects/audio-sentiment-an...</td>\n    </tr>\n    <tr>\n      <th>4</th>\n      <td>male_neutral</td>\n      <td>CREMA</td>\n      <td>/home/emir/Desktop/Projects/audio-sentiment-an...</td>\n    </tr>\n  </tbody>\n</table>\n</div>"
     },
     "execution_count": 2,
     "metadata": {},
     "output_type": "execute_result"
    }
   ]
  },
  {
   "cell_type": "code",
   "execution_count": 20,
   "metadata": {},
   "outputs": [
    {
     "name": "stdout",
     "output_type": "stream",
     "text": [
      "Öznitelik çıkartım işlemi başlıyor..\n",
      "Emotion:male_angry Dataset:CREMA 0/10\n",
      "Emotion:male_disgust Dataset:CREMA 1/10\n",
      "Emotion:male_fear Dataset:CREMA 2/10\n",
      "Emotion:male_happy Dataset:CREMA 3/10\n",
      "Emotion:male_neutral Dataset:CREMA 4/10\n",
      "Emotion:male_sad Dataset:CREMA 5/10\n",
      "Emotion:male_angry Dataset:CREMA 6/10\n",
      "Emotion:male_angry Dataset:CREMA 7/10\n",
      "Emotion:male_angry Dataset:CREMA 8/10\n",
      "Emotion:male_disgust Dataset:CREMA 9/10\n"
     ]
    }
   ],
   "source": [
    "small_df = metadata_df.iloc[:10,:]\n",
    "small_df.head()\n",
    "\n",
    "print(\"Öznitelik çıkartım işlemi başlıyor..\")\n",
    "_,featureX_lenght = FeatureExtractor.extract('example_audio.ogg')\n",
    "featuresX = np.empty(featureX_lenght)\n",
    "featuresY = []\n",
    "for index, row in small_df.iterrows():\n",
    "    print(\"Emotion:{} Dataset:{} {}/{}\".format(row['labels'],row['source'],index,len(small_df)))\n",
    "    row_features, _  = FeatureExtractor.extract(row['path'],pp_config.desired_features)\n",
    "    len(row_features)\n",
    "    featuresX = np.vstack([featuresX,row_features])\n",
    "    featuresY = np.hstack([featuresY,row['labels']])\n",
    "\n",
    "\n",
    "\n",
    "\n",
    "\n",
    "\n"
   ]
  },
  {
   "cell_type": "code",
   "execution_count": 4,
   "metadata": {},
   "outputs": [
    {
     "data": {
      "text/plain": "array([[-5.55319885e+02,  2.07019672e+01, -1.66768646e+01,\n        -1.06203461e+01, -7.63214350e+00,  6.21700883e-01,\n        -4.99736547e+00, -6.77378953e-01,  1.28460407e+00,\n         8.68854046e-01,  2.28679872e+00, -4.25468273e-02,\n        -5.12749612e-01, -3.86863887e-01, -1.58710992e+00,\n        -2.14820668e-01,  6.56401873e-01,  8.58573690e-02,\n        -6.96902514e-01, -1.98084962e+00, -8.55302930e-01,\n        -3.41585010e-01,  2.32943922e-01,  6.04503214e-01,\n        -8.63435149e-01, -1.56298721e+00,  3.46195579e-01,\n         6.87333643e-01, -1.10610199e+00, -3.34334522e-01,\n        -3.97113681e-01, -4.77909476e-01,  8.73541236e-02,\n         3.51304263e-01, -9.49738145e-01, -4.51690137e-01,\n        -1.15887217e-01,  1.17255402e+00,  8.68350565e-02,\n         3.01778525e-01],\n       [-5.55319885e+02,  2.07019672e+01, -1.66768646e+01,\n        -1.06203461e+01, -7.63214350e+00,  6.21700883e-01,\n        -4.99736547e+00, -6.77378953e-01,  1.28460407e+00,\n         8.68854046e-01,  2.28679872e+00, -4.25468273e-02,\n        -5.12749612e-01, -3.86863887e-01, -1.58710992e+00,\n        -2.14820668e-01,  6.56401873e-01,  8.58573690e-02,\n        -6.96902514e-01, -1.98084962e+00, -8.55302930e-01,\n        -3.41585010e-01,  2.32943922e-01,  6.04503214e-01,\n        -8.63435149e-01, -1.56298721e+00,  3.46195579e-01,\n         6.87333643e-01, -1.10610199e+00, -3.34334522e-01,\n        -3.97113681e-01, -4.77909476e-01,  8.73541236e-02,\n         3.51304263e-01, -9.49738145e-01, -4.51690137e-01,\n        -1.15887217e-01,  1.17255402e+00,  8.68350565e-02,\n         3.01778525e-01],\n       [-5.55319885e+02,  2.07019672e+01, -1.66768646e+01,\n        -1.06203461e+01, -7.63214350e+00,  6.21700883e-01,\n        -4.99736547e+00, -6.77378953e-01,  1.28460407e+00,\n         8.68854046e-01,  2.28679872e+00, -4.25468273e-02,\n        -5.12749612e-01, -3.86863887e-01, -1.58710992e+00,\n        -2.14820668e-01,  6.56401873e-01,  8.58573690e-02,\n        -6.96902514e-01, -1.98084962e+00, -8.55302930e-01,\n        -3.41585010e-01,  2.32943922e-01,  6.04503214e-01,\n        -8.63435149e-01, -1.56298721e+00,  3.46195579e-01,\n         6.87333643e-01, -1.10610199e+00, -3.34334522e-01,\n        -3.97113681e-01, -4.77909476e-01,  8.73541236e-02,\n         3.51304263e-01, -9.49738145e-01, -4.51690137e-01,\n        -1.15887217e-01,  1.17255402e+00,  8.68350565e-02,\n         3.01778525e-01],\n       [-5.55319885e+02,  2.07019672e+01, -1.66768646e+01,\n        -1.06203461e+01, -7.63214350e+00,  6.21700883e-01,\n        -4.99736547e+00, -6.77378953e-01,  1.28460407e+00,\n         8.68854046e-01,  2.28679872e+00, -4.25468273e-02,\n        -5.12749612e-01, -3.86863887e-01, -1.58710992e+00,\n        -2.14820668e-01,  6.56401873e-01,  8.58573690e-02,\n        -6.96902514e-01, -1.98084962e+00, -8.55302930e-01,\n        -3.41585010e-01,  2.32943922e-01,  6.04503214e-01,\n        -8.63435149e-01, -1.56298721e+00,  3.46195579e-01,\n         6.87333643e-01, -1.10610199e+00, -3.34334522e-01,\n        -3.97113681e-01, -4.77909476e-01,  8.73541236e-02,\n         3.51304263e-01, -9.49738145e-01, -4.51690137e-01,\n        -1.15887217e-01,  1.17255402e+00,  8.68350565e-02,\n         3.01778525e-01]])"
     },
     "execution_count": 4,
     "metadata": {},
     "output_type": "execute_result"
    }
   ],
   "source": [
    "data,_ = FeatureExtractor.extract('example_audio.ogg',['mfcc'])\n",
    "#np.vstack([data,data])\n",
    "data = np.vstack([data,data])\n",
    "np.vstack([data,data])"
   ]
  },
  {
   "cell_type": "code",
   "execution_count": 3,
   "metadata": {},
   "outputs": [],
   "source": []
  }
 ],
 "metadata": {
  "kernelspec": {
   "display_name": "Python 3",
   "language": "python",
   "name": "python3"
  },
  "language_info": {
   "codemirror_mode": {
    "name": "ipython",
    "version": 3
   },
   "file_extension": ".py",
   "mimetype": "text/x-python",
   "name": "python",
   "nbconvert_exporter": "python",
   "pygments_lexer": "ipython3",
   "version": "3.8.5"
  }
 },
 "nbformat": 4,
 "nbformat_minor": 4
}